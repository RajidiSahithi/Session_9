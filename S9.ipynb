{
 "cells": [
  {
   "cell_type": "code",
   "execution_count": 1,
   "metadata": {},
   "outputs": [
    {
     "name": "stdout",
     "output_type": "stream",
     "text": [
      "Requirement already satisfied: albumentations==0.4.6 in c:\\users\\sahithi\\appdata\\local\\packages\\pythonsoftwarefoundation.python.3.11_qbz5n2kfra8p0\\localcache\\local-packages\\python311\\site-packages (0.4.6)\n",
      "Requirement already satisfied: numpy>=1.11.1 in c:\\users\\sahithi\\appdata\\local\\packages\\pythonsoftwarefoundation.python.3.11_qbz5n2kfra8p0\\localcache\\local-packages\\python311\\site-packages (from albumentations==0.4.6) (1.24.3)\n",
      "Requirement already satisfied: scipy in c:\\users\\sahithi\\appdata\\local\\packages\\pythonsoftwarefoundation.python.3.11_qbz5n2kfra8p0\\localcache\\local-packages\\python311\\site-packages (from albumentations==0.4.6) (1.11.0)\n",
      "Requirement already satisfied: imgaug>=0.4.0 in c:\\users\\sahithi\\appdata\\local\\packages\\pythonsoftwarefoundation.python.3.11_qbz5n2kfra8p0\\localcache\\local-packages\\python311\\site-packages (from albumentations==0.4.6) (0.4.0)\n",
      "Requirement already satisfied: PyYAML in c:\\users\\sahithi\\appdata\\local\\packages\\pythonsoftwarefoundation.python.3.11_qbz5n2kfra8p0\\localcache\\local-packages\\python311\\site-packages (from albumentations==0.4.6) (6.0)\n",
      "Requirement already satisfied: opencv-python>=4.1.1 in c:\\users\\sahithi\\appdata\\local\\packages\\pythonsoftwarefoundation.python.3.11_qbz5n2kfra8p0\\localcache\\local-packages\\python311\\site-packages (from albumentations==0.4.6) (4.7.0.72)\n",
      "Requirement already satisfied: six in c:\\users\\sahithi\\appdata\\local\\packages\\pythonsoftwarefoundation.python.3.11_qbz5n2kfra8p0\\localcache\\local-packages\\python311\\site-packages (from imgaug>=0.4.0->albumentations==0.4.6) (1.16.0)\n",
      "Requirement already satisfied: Pillow in c:\\users\\sahithi\\appdata\\local\\packages\\pythonsoftwarefoundation.python.3.11_qbz5n2kfra8p0\\localcache\\local-packages\\python311\\site-packages (from imgaug>=0.4.0->albumentations==0.4.6) (9.5.0)\n",
      "Requirement already satisfied: matplotlib in c:\\users\\sahithi\\appdata\\local\\packages\\pythonsoftwarefoundation.python.3.11_qbz5n2kfra8p0\\localcache\\local-packages\\python311\\site-packages (from imgaug>=0.4.0->albumentations==0.4.6) (3.7.1)\n",
      "Requirement already satisfied: scikit-image>=0.14.2 in c:\\users\\sahithi\\appdata\\local\\packages\\pythonsoftwarefoundation.python.3.11_qbz5n2kfra8p0\\localcache\\local-packages\\python311\\site-packages (from imgaug>=0.4.0->albumentations==0.4.6) (0.21.0)\n",
      "Requirement already satisfied: imageio in c:\\users\\sahithi\\appdata\\local\\packages\\pythonsoftwarefoundation.python.3.11_qbz5n2kfra8p0\\localcache\\local-packages\\python311\\site-packages (from imgaug>=0.4.0->albumentations==0.4.6) (2.31.1)\n",
      "Requirement already satisfied: Shapely in c:\\users\\sahithi\\appdata\\local\\packages\\pythonsoftwarefoundation.python.3.11_qbz5n2kfra8p0\\localcache\\local-packages\\python311\\site-packages (from imgaug>=0.4.0->albumentations==0.4.6) (2.0.1)\n",
      "Requirement already satisfied: networkx>=2.8 in c:\\users\\sahithi\\appdata\\local\\packages\\pythonsoftwarefoundation.python.3.11_qbz5n2kfra8p0\\localcache\\local-packages\\python311\\site-packages (from scikit-image>=0.14.2->imgaug>=0.4.0->albumentations==0.4.6) (3.1)\n",
      "Requirement already satisfied: tifffile>=2022.8.12 in c:\\users\\sahithi\\appdata\\local\\packages\\pythonsoftwarefoundation.python.3.11_qbz5n2kfra8p0\\localcache\\local-packages\\python311\\site-packages (from scikit-image>=0.14.2->imgaug>=0.4.0->albumentations==0.4.6) (2023.4.12)\n",
      "Requirement already satisfied: PyWavelets>=1.1.1 in c:\\users\\sahithi\\appdata\\local\\packages\\pythonsoftwarefoundation.python.3.11_qbz5n2kfra8p0\\localcache\\local-packages\\python311\\site-packages (from scikit-image>=0.14.2->imgaug>=0.4.0->albumentations==0.4.6) (1.4.1)\n",
      "Requirement already satisfied: packaging>=21 in c:\\users\\sahithi\\appdata\\local\\packages\\pythonsoftwarefoundation.python.3.11_qbz5n2kfra8p0\\localcache\\local-packages\\python311\\site-packages (from scikit-image>=0.14.2->imgaug>=0.4.0->albumentations==0.4.6) (23.1)\n",
      "Requirement already satisfied: lazy_loader>=0.2 in c:\\users\\sahithi\\appdata\\local\\packages\\pythonsoftwarefoundation.python.3.11_qbz5n2kfra8p0\\localcache\\local-packages\\python311\\site-packages (from scikit-image>=0.14.2->imgaug>=0.4.0->albumentations==0.4.6) (0.2)\n",
      "Requirement already satisfied: contourpy>=1.0.1 in c:\\users\\sahithi\\appdata\\local\\packages\\pythonsoftwarefoundation.python.3.11_qbz5n2kfra8p0\\localcache\\local-packages\\python311\\site-packages (from matplotlib->imgaug>=0.4.0->albumentations==0.4.6) (1.0.7)\n",
      "Requirement already satisfied: cycler>=0.10 in c:\\users\\sahithi\\appdata\\local\\packages\\pythonsoftwarefoundation.python.3.11_qbz5n2kfra8p0\\localcache\\local-packages\\python311\\site-packages (from matplotlib->imgaug>=0.4.0->albumentations==0.4.6) (0.11.0)\n",
      "Requirement already satisfied: fonttools>=4.22.0 in c:\\users\\sahithi\\appdata\\local\\packages\\pythonsoftwarefoundation.python.3.11_qbz5n2kfra8p0\\localcache\\local-packages\\python311\\site-packages (from matplotlib->imgaug>=0.4.0->albumentations==0.4.6) (4.39.4)\n",
      "Requirement already satisfied: kiwisolver>=1.0.1 in c:\\users\\sahithi\\appdata\\local\\packages\\pythonsoftwarefoundation.python.3.11_qbz5n2kfra8p0\\localcache\\local-packages\\python311\\site-packages (from matplotlib->imgaug>=0.4.0->albumentations==0.4.6) (1.4.4)\n",
      "Requirement already satisfied: pyparsing>=2.3.1 in c:\\users\\sahithi\\appdata\\local\\packages\\pythonsoftwarefoundation.python.3.11_qbz5n2kfra8p0\\localcache\\local-packages\\python311\\site-packages (from matplotlib->imgaug>=0.4.0->albumentations==0.4.6) (3.0.9)\n",
      "Requirement already satisfied: python-dateutil>=2.7 in c:\\users\\sahithi\\appdata\\local\\packages\\pythonsoftwarefoundation.python.3.11_qbz5n2kfra8p0\\localcache\\local-packages\\python311\\site-packages (from matplotlib->imgaug>=0.4.0->albumentations==0.4.6) (2.8.2)\n",
      "Note: you may need to restart the kernel to use updated packages.\n"
     ]
    },
    {
     "name": "stderr",
     "output_type": "stream",
     "text": [
      "\n",
      "[notice] A new release of pip available: 22.3.1 -> 23.1.2\n",
      "[notice] To update, run: C:\\Users\\SAHITHI\\AppData\\Local\\Microsoft\\WindowsApps\\PythonSoftwareFoundation.Python.3.11_qbz5n2kfra8p0\\python.exe -m pip install --upgrade pip\n"
     ]
    }
   ],
   "source": [
    "%pip install albumentations==0.4.6\n",
    "import cv2\n",
    "import torchvision\n",
    "import torch\n",
    "import torchvision.transforms as transforms\n",
    "from torchvision import datasets,transforms#\n",
    "# Albumentations for augmentations\n",
    "import albumentations as A\n",
    "from albumentations.pytorch import ToTensorV2"
   ]
  },
  {
   "cell_type": "code",
   "execution_count": 2,
   "metadata": {},
   "outputs": [
    {
     "data": {
      "text/plain": [
       "<dataset.Cifar10SearchDataset at 0x1ee31493f50>"
      ]
     },
     "execution_count": 2,
     "metadata": {},
     "output_type": "execute_result"
    }
   ],
   "source": [
    "from torch.utils.data import Dataset, DataLoader\n",
    "from dataset import Cifar10SearchDataset\n",
    "cv2.setNumThreads(0)\n",
    "\n",
    "cv2.ocl.setUseOpenCL(False)\n",
    "\n",
    "Cifar10SearchDataset(Dataset)\n",
    "\n",
    "\n",
    "\n",
    "\n",
    "\n"
   ]
  },
  {
   "cell_type": "code",
   "execution_count": 3,
   "metadata": {},
   "outputs": [
    {
     "name": "stdout",
     "output_type": "stream",
     "text": [
      "Files already downloaded and verified\n",
      "Files already downloaded and verified\n",
      "Compose([\n",
      "  HorizontalFlip(always_apply=False, p=0.5),\n",
      "  ShiftScaleRotate(always_apply=False, p=0.5, shift_limit=(-0.0625, 0.0625), scale_limit=(-0.09999999999999998, 0.10000000000000009), rotate_limit=(-45, 45), interpolation=1, border_mode=4, value=None, mask_value=None),\n",
      "  RandomBrightnessContrast(always_apply=False, p=0.5, brightness_limit=(-0.2, 0.2), contrast_limit=(-0.2, 0.2), brightness_by_max=True),\n",
      "  CoarseDropout(always_apply=False, p=0.5, max_holes=1, max_height=16, max_width=16, min_holes=1, min_height=16, min_width=16),\n",
      "  Normalize(always_apply=False, p=1.0, mean=(0.4914, 0.4822, 0.4465), std=(0.247, 0.2435, 0.2616), max_pixel_value=255.0),\n",
      "  ToTensorV2(always_apply=True, p=1.0),\n",
      "], p=1.0, bbox_params=None, keypoint_params=None, additional_targets={})\n",
      "Compose([\n",
      "  Normalize(always_apply=False, p=1.0, mean=(0.4914, 0.4822, 0.4465), std=(0.2023, 0.1994, 0.201), max_pixel_value=255.0),\n",
      "  ToTensorV2(always_apply=True, p=1.0),\n",
      "], p=1.0, bbox_params=None, keypoint_params=None, additional_targets={})\n",
      "<torch.utils.data.dataloader.DataLoader object at 0x000001EE4ADD69D0>\n",
      "length of train_loader 391\n",
      "<torch.utils.data.dataloader.DataLoader object at 0x000001EE48172650>\n",
      "length of test_loader 79\n"
     ]
    }
   ],
   "source": [
    "from dataset import get_loader\n",
    "from transform import get_a_train_transform, get_a_test_transform\n",
    "batch_size = 128\n",
    "use_cuda=True\n",
    "train_loader, test_loader = get_loader(get_a_train_transform(), get_a_test_transform(), batch_size=batch_size, use_cuda=use_cuda)\n",
    "\n",
    "\n",
    "print(get_a_train_transform())\n",
    "\n",
    "print(get_a_test_transform())\n",
    "\n",
    "print(train_loader)\n",
    "print('length of train_loader',len(train_loader))\n",
    "print(test_loader)\n",
    "print('length of test_loader',len(test_loader))\n",
    "\n"
   ]
  },
  {
   "cell_type": "code",
   "execution_count": 4,
   "metadata": {},
   "outputs": [
    {
     "name": "stderr",
     "output_type": "stream",
     "text": [
      "Clipping input data to the valid range for imshow with RGB data ([0..1] for floats or [0..255] for integers).\n",
      "Clipping input data to the valid range for imshow with RGB data ([0..1] for floats or [0..255] for integers).\n",
      "Clipping input data to the valid range for imshow with RGB data ([0..1] for floats or [0..255] for integers).\n",
      "Clipping input data to the valid range for imshow with RGB data ([0..1] for floats or [0..255] for integers).\n",
      "Clipping input data to the valid range for imshow with RGB data ([0..1] for floats or [0..255] for integers).\n",
      "Clipping input data to the valid range for imshow with RGB data ([0..1] for floats or [0..255] for integers).\n",
      "Clipping input data to the valid range for imshow with RGB data ([0..1] for floats or [0..255] for integers).\n",
      "Clipping input data to the valid range for imshow with RGB data ([0..1] for floats or [0..255] for integers).\n",
      "Clipping input data to the valid range for imshow with RGB data ([0..1] for floats or [0..255] for integers).\n",
      "Clipping input data to the valid range for imshow with RGB data ([0..1] for floats or [0..255] for integers).\n",
      "Clipping input data to the valid range for imshow with RGB data ([0..1] for floats or [0..255] for integers).\n",
      "Clipping input data to the valid range for imshow with RGB data ([0..1] for floats or [0..255] for integers).\n",
      "Clipping input data to the valid range for imshow with RGB data ([0..1] for floats or [0..255] for integers).\n",
      "Clipping input data to the valid range for imshow with RGB data ([0..1] for floats or [0..255] for integers).\n",
      "Clipping input data to the valid range for imshow with RGB data ([0..1] for floats or [0..255] for integers).\n",
      "Clipping input data to the valid range for imshow with RGB data ([0..1] for floats or [0..255] for integers).\n"
     ]
    },
    {
     "data": {
      "image/png": "[encoded data removed]",
      "text/plain": [
       "<Figure size 1500x500 with 16 Axes>"
      ]
     },
     "metadata": {},
     "output_type": "display_data"
    }
   ],
   "source": [
    "from utils import  print_samples\n",
    "\n",
    "print_samples(train_loader)"
   ]
  },
  {
   "cell_type": "code",
   "execution_count": 5,
   "metadata": {},
   "outputs": [
    {
     "name": "stdout",
     "output_type": "stream",
     "text": [
      "Requirement already satisfied: torchsummary in c:\\users\\sahithi\\appdata\\local\\packages\\pythonsoftwarefoundation.python.3.11_qbz5n2kfra8p0\\localcache\\local-packages\\python311\\site-packages (1.5.1)Note: you may need to restart the kernel to use updated packages.\n",
      "\n"
     ]
    },
    {
     "name": "stderr",
     "output_type": "stream",
     "text": [
      "\n",
      "[notice] A new release of pip available: 22.3.1 -> 23.1.2\n",
      "[notice] To update, run: C:\\Users\\SAHITHI\\AppData\\Local\\Microsoft\\WindowsApps\\PythonSoftwareFoundation.Python.3.11_qbz5n2kfra8p0\\python.exe -m pip install --upgrade pip\n"
     ]
    },
    {
     "name": "stdout",
     "output_type": "stream",
     "text": [
      "cpu\n",
      "----------------------------------------------------------------\n",
      "        Layer (type)               Output Shape         Param #\n",
      "================================================================\n",
      "            Conv2d-1           [-1, 16, 30, 30]             448\n",
      "       BatchNorm2d-2           [-1, 16, 30, 30]              32\n",
      "              ReLU-3           [-1, 16, 30, 30]               0\n",
      "           Dropout-4           [-1, 16, 30, 30]               0\n",
      "            Conv2d-5           [-1, 16, 28, 28]             592\n",
      "       BatchNorm2d-6           [-1, 16, 28, 28]              32\n",
      "              ReLU-7           [-1, 16, 28, 28]               0\n",
      "           Dropout-8           [-1, 16, 28, 28]               0\n",
      "            Conv2d-9           [-1, 16, 28, 28]             272\n",
      "      BatchNorm2d-10           [-1, 16, 28, 28]              32\n",
      "             ReLU-11           [-1, 16, 28, 28]               0\n",
      "          Dropout-12           [-1, 16, 28, 28]               0\n",
      "           Conv2d-13           [-1, 32, 22, 22]           4,640\n",
      "      BatchNorm2d-14           [-1, 32, 22, 22]              64\n",
      "             ReLU-15           [-1, 32, 22, 22]               0\n",
      "           Conv2d-16           [-1, 32, 16, 16]           9,248\n",
      "      BatchNorm2d-17           [-1, 32, 16, 16]              64\n",
      "             ReLU-18           [-1, 32, 16, 16]               0\n",
      "           Conv2d-19           [-1, 16, 28, 28]           4,624\n",
      "      BatchNorm2d-20           [-1, 16, 28, 28]              32\n",
      "             ReLU-21           [-1, 16, 28, 28]               0\n",
      "           Conv2d-22           [-1, 32, 26, 26]           4,640\n",
      "      BatchNorm2d-23           [-1, 32, 26, 26]              64\n",
      "             ReLU-24           [-1, 32, 26, 26]               0\n",
      "          Dropout-25           [-1, 32, 26, 26]               0\n",
      "           Conv2d-26           [-1, 32, 24, 24]           9,248\n",
      "      BatchNorm2d-27           [-1, 32, 24, 24]              64\n",
      "             ReLU-28           [-1, 32, 24, 24]               0\n",
      "          Dropout-29           [-1, 32, 24, 24]               0\n",
      "           Conv2d-30           [-1, 64, 22, 22]          18,496\n",
      "      BatchNorm2d-31           [-1, 64, 22, 22]             128\n",
      "             ReLU-32           [-1, 64, 22, 22]               0\n",
      "          Dropout-33           [-1, 64, 22, 22]               0\n",
      "           Conv2d-34           [-1, 64, 16, 16]          36,928\n",
      "      BatchNorm2d-35           [-1, 64, 16, 16]             128\n",
      "             ReLU-36           [-1, 64, 16, 16]               0\n",
      "           Conv2d-37           [-1, 32, 10, 10]          18,464\n",
      "      BatchNorm2d-38           [-1, 32, 10, 10]              64\n",
      "             ReLU-39           [-1, 32, 10, 10]               0\n",
      "           Conv2d-40           [-1, 64, 22, 22]          18,496\n",
      "      BatchNorm2d-41           [-1, 64, 22, 22]             128\n",
      "             ReLU-42           [-1, 64, 22, 22]               0\n",
      "AdaptiveAvgPool2d-43             [-1, 64, 1, 1]               0\n",
      "           Conv2d-44             [-1, 10, 1, 1]             650\n",
      "================================================================\n",
      "Total params: 127,578\n",
      "Trainable params: 127,578\n",
      "Non-trainable params: 0\n",
      "----------------------------------------------------------------\n",
      "Input size (MB): 0.01\n",
      "Forward/backward pass size (MB): 5.36\n",
      "Params size (MB): 0.49\n",
      "Estimated Total Size (MB): 5.86\n",
      "----------------------------------------------------------------\n"
     ]
    }
   ],
   "source": [
    "%pip install torchsummary\n",
    "from torchsummary import summary\n",
    "from model import Net,model_summary\n",
    "from training import train_model,test_model\n",
    "\n",
    "use_cuda = torch.cuda.is_available()\n",
    "device = torch.device(\"cuda\" if use_cuda else \"cpu\")\n",
    "print(device)\n",
    "\n",
    "\n",
    "model = Net().to(device)\n",
    "summary(model, input_size=(3, 32, 32))"
   ]
  },
  {
   "cell_type": "code",
   "execution_count": 6,
   "metadata": {},
   "outputs": [
    {
     "data": {
      "text/plain": [
       "Net(\n",
       "  (conv11): Sequential(\n",
       "    (0): Conv2d(3, 16, kernel_size=(3, 3), stride=(1, 1))\n",
       "    (1): BatchNorm2d(16, eps=1e-05, momentum=0.1, affine=True, track_running_stats=True)\n",
       "    (2): ReLU(inplace=True)\n",
       "    (3): Dropout(p=0.01, inplace=False)\n",
       "  )\n",
       "  (conv12): Sequential(\n",
       "    (0): Conv2d(16, 16, kernel_size=(3, 3), stride=(1, 1), groups=4)\n",
       "    (1): BatchNorm2d(16, eps=1e-05, momentum=0.1, affine=True, track_running_stats=True)\n",
       "    (2): ReLU(inplace=True)\n",
       "    (3): Dropout(p=0.01, inplace=False)\n",
       "  )\n",
       "  (conv13): Sequential(\n",
       "    (0): Conv2d(16, 16, kernel_size=(1, 1), stride=(1, 1))\n",
       "    (1): BatchNorm2d(16, eps=1e-05, momentum=0.1, affine=True, track_running_stats=True)\n",
       "    (2): ReLU(inplace=True)\n",
       "    (3): Dropout(p=0.01, inplace=False)\n",
       "  )\n",
       "  (conv21): Sequential(\n",
       "    (0): Conv2d(16, 32, kernel_size=(3, 3), stride=(1, 1), dilation=(3, 3))\n",
       "    (1): BatchNorm2d(32, eps=1e-05, momentum=0.1, affine=True, track_running_stats=True)\n",
       "    (2): ReLU(inplace=True)\n",
       "    (3): Conv2d(32, 32, kernel_size=(3, 3), stride=(1, 1), dilation=(3, 3))\n",
       "    (4): BatchNorm2d(32, eps=1e-05, momentum=0.1, affine=True, track_running_stats=True)\n",
       "    (5): ReLU(inplace=True)\n",
       "    (6): Conv2d(32, 16, kernel_size=(3, 3), stride=(1, 1), padding=(9, 9), dilation=(3, 3))\n",
       "    (7): BatchNorm2d(16, eps=1e-05, momentum=0.1, affine=True, track_running_stats=True)\n",
       "  )\n",
       "  (relu2): ReLU(inplace=True)\n",
       "  (conv31): Sequential(\n",
       "    (0): Conv2d(16, 32, kernel_size=(3, 3), stride=(1, 1))\n",
       "    (1): BatchNorm2d(32, eps=1e-05, momentum=0.1, affine=True, track_running_stats=True)\n",
       "    (2): ReLU(inplace=True)\n",
       "    (3): Dropout(p=0.01, inplace=False)\n",
       "  )\n",
       "  (conv32): Sequential(\n",
       "    (0): Conv2d(32, 32, kernel_size=(3, 3), stride=(1, 1))\n",
       "    (1): BatchNorm2d(32, eps=1e-05, momentum=0.1, affine=True, track_running_stats=True)\n",
       "    (2): ReLU(inplace=True)\n",
       "    (3): Dropout(p=0.01, inplace=False)\n",
       "  )\n",
       "  (conv33): Sequential(\n",
       "    (0): Conv2d(32, 64, kernel_size=(3, 3), stride=(1, 1))\n",
       "    (1): BatchNorm2d(64, eps=1e-05, momentum=0.1, affine=True, track_running_stats=True)\n",
       "    (2): ReLU(inplace=True)\n",
       "    (3): Dropout(p=0.01, inplace=False)\n",
       "  )\n",
       "  (conv41): Sequential(\n",
       "    (0): Conv2d(64, 64, kernel_size=(3, 3), stride=(1, 1), dilation=(3, 3))\n",
       "    (1): BatchNorm2d(64, eps=1e-05, momentum=0.1, affine=True, track_running_stats=True)\n",
       "    (2): ReLU(inplace=True)\n",
       "    (3): Conv2d(64, 32, kernel_size=(3, 3), stride=(1, 1), dilation=(3, 3))\n",
       "    (4): BatchNorm2d(32, eps=1e-05, momentum=0.1, affine=True, track_running_stats=True)\n",
       "    (5): ReLU(inplace=True)\n",
       "    (6): Conv2d(32, 64, kernel_size=(3, 3), stride=(1, 1), padding=(9, 9), dilation=(3, 3))\n",
       "    (7): BatchNorm2d(64, eps=1e-05, momentum=0.1, affine=True, track_running_stats=True)\n",
       "  )\n",
       "  (relu1): ReLU(inplace=True)\n",
       "  (gap): AdaptiveAvgPool2d(output_size=1)\n",
       "  (conv5): Sequential(\n",
       "    (0): Conv2d(64, 10, kernel_size=(1, 1), stride=(1, 1))\n",
       "  )\n",
       ")"
      ]
     },
     "execution_count": 6,
     "metadata": {},
     "output_type": "execute_result"
    }
   ],
   "source": [
    "model"
   ]
  },
  {
   "cell_type": "code",
   "execution_count": 7,
   "metadata": {},
   "outputs": [
    {
     "name": "stdout",
     "output_type": "stream",
     "text": [
      "EPOCH: 0\n"
     ]
    },
    {
     "name": "stderr",
     "output_type": "stream",
     "text": [
      "Loss=1.570932149887085 Batch_id=390 Accuracy=31.98: 100%|██████████| 391/391 [08:07<00:00,  1.25s/it] \n"
     ]
    },
    {
     "name": "stdout",
     "output_type": "stream",
     "text": [
      "\n",
      "Test set: Average loss: 1.6403, Accuracy: 4168/10000 (41.68%)\n",
      "\n",
      "EPOCH: 1\n"
     ]
    },
    {
     "name": "stderr",
     "output_type": "stream",
     "text": [
      "Loss=1.6036971807479858 Batch_id=390 Accuracy=42.34: 100%|██████████| 391/391 [07:34<00:00,  1.16s/it]\n"
     ]
    },
    {
     "name": "stdout",
     "output_type": "stream",
     "text": [
      "\n",
      "Test set: Average loss: 1.4010, Accuracy: 4981/10000 (49.81%)\n",
      "\n",
      "EPOCH: 2\n"
     ]
    },
    {
     "name": "stderr",
     "output_type": "stream",
     "text": [
      "Loss=1.3929779529571533 Batch_id=390 Accuracy=46.16: 100%|██████████| 391/391 [08:06<00:00,  1.25s/it]\n"
     ]
    },
    {
     "name": "stdout",
     "output_type": "stream",
     "text": [
      "\n",
      "Test set: Average loss: 1.2650, Accuracy: 5414/10000 (54.14%)\n",
      "\n",
      "EPOCH: 3\n"
     ]
    },
    {
     "name": "stderr",
     "output_type": "stream",
     "text": [
      "Loss=1.3039246797561646 Batch_id=273 Accuracy=48.55:  70%|███████   | 274/391 [07:25<02:36,  1.33s/it]"
     ]
    }
   ],
   "source": [
    "import torch\n",
    "import torch.optim as optim\n",
    "import torch.nn.functional as F\n",
    "#from torch.optim.lr_scheduler import StepLR\n",
    "\n",
    "model =  Net().to(device)\n",
    "# criterion = nn.CrossEntropyLoss()\n",
    "optimizer = torch.optim.Adam(model.parameters(), lr=0.01, betas=(0.9, 0.999), eps=1e-08, weight_decay=1e-05, amsgrad=False)\n",
    "scheduler = torch.optim.lr_scheduler.OneCycleLR(optimizer, 0.01, epochs=50,steps_per_epoch=len(train_loader))\n",
    "# scheduler = StepLR(optimizer, step_size=6, gamma=0.1)\n",
    "\n",
    "\n",
    "EPOCHS = 50\n",
    "for epoch in range(EPOCHS):\n",
    "    print(\"EPOCH:\", epoch)\n",
    "    train_model(model, device, train_loader, optimizer, epoch)\n",
    "    # scheduler.step()\n",
    "    test_model(model, device, test_loader)"
   ]
  }
 ],
 "metadata": {
  "kernelspec": {
   "display_name": "Python 3",
   "language": "python",
   "name": "python3"
  },
  "language_info": {
   "codemirror_mode": {
    "name": "ipython",
    "version": 3
   },
   "file_extension": ".py",
   "mimetype": "text/x-python",
   "name": "python",
   "nbconvert_exporter": "python",
   "pygments_lexer": "ipython3",
   "version": "3.11.3"
  },
  "orig_nbformat": 4
 },
 "nbformat": 4,
 "nbformat_minor": 2
}
